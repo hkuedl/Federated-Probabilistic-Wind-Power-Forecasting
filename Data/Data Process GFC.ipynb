{
 "cells": [
  {
   "cell_type": "code",
   "execution_count": 8,
   "metadata": {},
   "outputs": [],
   "source": [
    "import pandas as pd\n",
    "import numpy as np\n",
    "import matplotlib.pyplot as plt"
   ]
  },
  {
   "cell_type": "code",
   "execution_count": 9,
   "metadata": {},
   "outputs": [],
   "source": [
    "target_data=pd.read_csv('./GFC12 row/windpower.csv', header=None)\n",
    "target_data = target_data.iloc[:, :-1]\n",
    "target_data.columns=['date','wf1', 'wf2', 'wf3', 'wf4', 'wf5', 'wf6', 'wf7']\n",
    "target_data.drop(target_data.index[0], inplace=True)\n",
    "target_data=target_data.iloc[1:26209]\n",
    "\n",
    "target_data['date'] = pd.to_datetime(target_data['date'].astype(str), format='%Y%m%d%H')\n",
    "target_data.set_index(np.array(range(len(target_data))), inplace=True)"
   ]
  },
  {
   "cell_type": "code",
   "execution_count": 10,
   "metadata": {},
   "outputs": [],
   "source": [
    "def replace_zero_hour_with_previous_day_24(row):\n",
    "    if row.hour == 0:\n",
    "        row.hour=24\n",
    "        row.day = row.day-1\n",
    "        #return row - pd.Timedelta(hours=1)\n",
    "    else:\n",
    "        return row\n"
   ]
  },
  {
   "cell_type": "code",
   "execution_count": 17,
   "metadata": {},
   "outputs": [
    {
     "name": "stdout",
     "output_type": "stream",
     "text": [
      "(26208, 6) (26208,)\n"
     ]
    },
    {
     "name": "stderr",
     "output_type": "stream",
     "text": [
      "/tmp/ipykernel_2340614/1408181792.py:18: FutureWarning: The frame.append method is deprecated and will be removed from pandas in a future version. Use pandas.concat instead.\n",
      "  merged_data = new_row.append(merged_data).reset_index(drop=True)\n"
     ]
    },
    {
     "name": "stdout",
     "output_type": "stream",
     "text": [
      "(26208, 6) (26208,)\n"
     ]
    },
    {
     "name": "stderr",
     "output_type": "stream",
     "text": [
      "/tmp/ipykernel_2340614/1408181792.py:18: FutureWarning: The frame.append method is deprecated and will be removed from pandas in a future version. Use pandas.concat instead.\n",
      "  merged_data = new_row.append(merged_data).reset_index(drop=True)\n"
     ]
    },
    {
     "name": "stdout",
     "output_type": "stream",
     "text": [
      "(26208, 6) (26208,)\n"
     ]
    },
    {
     "name": "stderr",
     "output_type": "stream",
     "text": [
      "/tmp/ipykernel_2340614/1408181792.py:18: FutureWarning: The frame.append method is deprecated and will be removed from pandas in a future version. Use pandas.concat instead.\n",
      "  merged_data = new_row.append(merged_data).reset_index(drop=True)\n"
     ]
    },
    {
     "name": "stdout",
     "output_type": "stream",
     "text": [
      "(26208, 6) (26208,)\n"
     ]
    },
    {
     "name": "stderr",
     "output_type": "stream",
     "text": [
      "/tmp/ipykernel_2340614/1408181792.py:18: FutureWarning: The frame.append method is deprecated and will be removed from pandas in a future version. Use pandas.concat instead.\n",
      "  merged_data = new_row.append(merged_data).reset_index(drop=True)\n"
     ]
    },
    {
     "name": "stdout",
     "output_type": "stream",
     "text": [
      "(26208, 6) (26208,)\n"
     ]
    },
    {
     "name": "stderr",
     "output_type": "stream",
     "text": [
      "/tmp/ipykernel_2340614/1408181792.py:18: FutureWarning: The frame.append method is deprecated and will be removed from pandas in a future version. Use pandas.concat instead.\n",
      "  merged_data = new_row.append(merged_data).reset_index(drop=True)\n"
     ]
    },
    {
     "name": "stdout",
     "output_type": "stream",
     "text": [
      "(26208, 6) (26208,)\n"
     ]
    },
    {
     "name": "stderr",
     "output_type": "stream",
     "text": [
      "/tmp/ipykernel_2340614/1408181792.py:18: FutureWarning: The frame.append method is deprecated and will be removed from pandas in a future version. Use pandas.concat instead.\n",
      "  merged_data = new_row.append(merged_data).reset_index(drop=True)\n"
     ]
    },
    {
     "name": "stdout",
     "output_type": "stream",
     "text": [
      "(26208, 6) (26208,)\n"
     ]
    },
    {
     "name": "stderr",
     "output_type": "stream",
     "text": [
      "/tmp/ipykernel_2340614/1408181792.py:18: FutureWarning: The frame.append method is deprecated and will be removed from pandas in a future version. Use pandas.concat instead.\n",
      "  merged_data = new_row.append(merged_data).reset_index(drop=True)\n"
     ]
    }
   ],
   "source": [
    "wf_lst=['wf1', 'wf2', 'wf3', 'wf4', 'wf5', 'wf6', 'wf7']\n",
    "for wf in wf_lst:\n",
    "    weather_data=pd.read_csv('./GFC12 row/windforecasts_'+wf+'.csv', header=None)\n",
    "    weather_data.columns=np.array(weather_data.iloc[0:1,])[0]\n",
    "    weather_data.drop(weather_data.index[0], inplace=True)\n",
    "    selected_data = []\n",
    "    for i in range(0, len(weather_data), 96):\n",
    "        selected_data.append(weather_data.iloc[i:i+24])\n",
    "\n",
    "    selected_data = pd.concat(selected_data)\n",
    "    selected_data.set_index(np.array(range(len(selected_data))), inplace=True)\n",
    "    selected_data['date'] = pd.to_datetime(selected_data['date'].astype(str), format='%Y%m%d%H')\n",
    "    print(np.shape(selected_data), np.shape(target_data[wf]))\n",
    "    merged_data = pd.concat([selected_data, target_data[wf]], axis=1)\n",
    "    merged_data['date'] = target_data['date']   \n",
    "    new_row = merged_data.loc[merged_data['date'] == '2009-07-01 01:00:00'].copy()\n",
    "    new_row['date'] = pd.Timestamp('2009-07-01 00:00:00')\n",
    "    merged_data = new_row.append(merged_data).reset_index(drop=True)\n",
    "    merged_data = merged_data.drop(merged_data.index[-1])\n",
    "    merged_data.to_csv('./GFC12/'+wf+'.csv', index=False)"
   ]
  }
 ],
 "metadata": {
  "kernelspec": {
   "display_name": "torch_IET",
   "language": "python",
   "name": "python3"
  },
  "language_info": {
   "codemirror_mode": {
    "name": "ipython",
    "version": 3
   },
   "file_extension": ".py",
   "mimetype": "text/x-python",
   "name": "python",
   "nbconvert_exporter": "python",
   "pygments_lexer": "ipython3",
   "version": "3.8.13"
  }
 },
 "nbformat": 4,
 "nbformat_minor": 2
}
